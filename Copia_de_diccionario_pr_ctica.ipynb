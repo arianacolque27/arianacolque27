{
  "nbformat": 4,
  "nbformat_minor": 0,
  "metadata": {
    "colab": {
      "provenance": [],
      "include_colab_link": true
    },
    "kernelspec": {
      "name": "python3",
      "display_name": "Python 3"
    },
    "language_info": {
      "name": "python"
    }
  },
  "cells": [
    {
      "cell_type": "markdown",
      "metadata": {
        "id": "view-in-github",
        "colab_type": "text"
      },
      "source": [
        "<a href=\"https://colab.research.google.com/github/arianacolque27/arianacolque27/blob/main/Copia_de_diccionario_pr_ctica.ipynb\" target=\"_parent\"><img src=\"https://colab.research.google.com/assets/colab-badge.svg\" alt=\"Open In Colab\"/></a>"
      ]
    },
    {
      "cell_type": "code",
      "execution_count": 1,
      "metadata": {
        "id": "8VOD-zpMJovw"
      },
      "outputs": [],
      "source": [
        "# Listas de alumnos\n",
        "estudiantes_5d = [\n",
        "   (\"Alurralde, Solange Stefania\",\"D\",\"02/04/2007\"),\n",
        "   (\"Alvarado, Ludmila Del Milagro\",\"D\",\"06/09/2006\"),\n",
        "   (\"Angel, Camila Juliana\",\"D\",\"07/03/2007\"),\n",
        "   (\"Arenas, Lucas Gabriel\",\"D\",\"26/06/2007\"),\n",
        "   (\"Caseres, Maria Antonia\",\"D\",\"01/07/2006\"),\n",
        "   (\"Castillo, Paulina Milagros\",\"D\",\"01/06/2007\"),\n",
        "   (\"Correa Segovia, Hugo Mariano\",\"D\",\"04/12/2006\"),\n",
        "   (\"D Elia, Alvaro Tadeo\",\"D\",\"27/08/2006\"),\n",
        "   (\"Flores, Victoria Agustina\",\"D\",\"12/12/2006\"),\n",
        "   (\"Geronimo Soriano, Lizzie Amaya\",\"D\",\"20/01/2007\"),\n",
        "   (\"GUZMAN, ANGÉLICA MORENA\",\"D\",\"11/04/2007\"),\n",
        "   (\"Guzman, Jazmin Esmeralda Belen\",\"D\",\"31/07/2006\"),\n",
        "   (\"Jaime, Anita Maria Belen\",\"D\",\"19/04/2007\"),\n",
        "   (\"Lacour Polo, Nazarena\",\"D\",\"19/12/2005\"),\n",
        "   (\"Lascano Guanca, Marcelo Fabricio\",\"D\",\"17/02/2006\"),\n",
        "   (\"Lezcano, Celia Morena\",\"D\",\"01/07/2005\"),\n",
        "   (\"Martinez, Tomas Andres\",\"D\",\"22/03/2007\"),\n",
        "   (\"PORTELLA VALDIVIA, PEDRO FRANCISCO\",\"D\",\"24/01/2007\"),\n",
        "   (\"Retamal Cisneros, Zacarias Josue\",\"D\",\"24/02/2007\"),\n",
        "   (\"Rosales, Francisco Gabriel\",\"D\",\"14/11/2006\"),\n",
        "   (\"Salem Barba, Mahia\",\"D\",\"14/10/2005\"),\n",
        "   (\"Soto Camara, Agustin Ignacio\",\"D\",\"07/11/2005\"),\n",
        "   (\"Villalba, Irina\",\"D\",\"09/09/2006\"),\n",
        "   (\"Voltolini, Emanuel Tobias\",\"D\",\"17/09/2006\"),\n",
        "   (\"Zalazar, Santino Stefano\",\"D\",\"30/09/2006\")\n",
        "]\n",
        "\n",
        "estudiantes_5c=[\n",
        "    (\"ABUD LASPIUR, LOURDES MARIEL\",\"C\",\"05/12/2006\"),\n",
        "    (\"Amador, Luana Micaela\",\"C\",\"09/12/2006\"),\n",
        "    (\"Anaquin, Leonardo Ezequiel\",\"C\",\"06/09/2005\"),\n",
        "    (\"Araoz Sanchez, Lautaro Nahuel\",\"C\",\"28/12/2005\"),\n",
        "    (\"Argañaraz, Agostina Abril\",\"C\",\"11/10/2006\"),\n",
        "    (\"Barrera, Matias Ezequiel\",\"C\",\"27/02/2007\"),\n",
        "    (\"Barrozo Vedia, Joaquin Nicolas\",\"C\",\"15/04/2006\"),\n",
        "    (\"Bettinelli, Valentino\",\"C\",\"12/07/2006\"),\n",
        "    (\"Bracamonte Martinez, Salvador\",\"C\",\"02/11/2005\"),\n",
        "    (\"Colque Rivero, Ariana Zoe Del Valle\",\"C\",\"27/12/2006\"),\n",
        "    (\"Diaz, Dulce Maitena\",\"C\",\"11/12/2006\"),\n",
        "    (\"FIGUEROA, SANTINO JOSUE\",\"C\",\"12/05/2007\"),\n",
        "    (\"Flores Cardozo, Agustina Tiara\",\"C\",\"18/03/2006\"),\n",
        "    (\"Gallo, Octavio Ismael\",\"C\",\"04/08/2006\"),\n",
        "    (\"Galvan, Lourdes Yamila\",\"C\",\"19/08/2005\"),\n",
        "    (\"Giangreco, Vitto Tomasso\",\"C\",\"21/03/2007\"),\n",
        "    (\"Grancara, Martina Luna\",\"C\",\"15/12/2006\"),\n",
        "    (\"Guanca, Sara Elizabeth\",\"C\",\"17/01/2007\"),\n",
        "    (\"Lopez, Victoria Constanza\",\"C\",\"12/11/2007\"),\n",
        "    (\"Mamani Garrido, Rosario Agostina\",\"C\",\"24/10/2006\"),\n",
        "    (\"Marinaro, Martin Ezequiel\",\"C\",\"03/11/2006\"),\n",
        "    (\"Merluzzi Dagum, Ignacio\",\"C\",\"22/12/2005\"),\n",
        "    (\"Messina, Martina\",\"C\",\"13/07/2005\"),\n",
        "    (\"RASUK, KARIM\", \"C\",\"13/07/2007\"),\n",
        "    (\"Rios, Lucia Magali\",\"C\",\"22/09/2006\"),\n",
        "    (\"Sanchez Flores, Matías Agustín\",\"C\",\"15/02/2007\"),\n",
        "    (\"Scarano, Renato Marcelo\",\"C\",\"06/12/2006\"),\n",
        "    (\"Sierra, Lucas Mauricio\",\"C\",\"03/04/2005\"),\n",
        "    (\"Tapia, Martin Gabriel\",\"C\",\"30/05/2006\"),\n",
        "    (\"Vilte, Mia Antonella Alondra\",\"C\",\"10/09/2005\"),\n",
        "    (\"Virgillito, Katya Milena\",\"C\",\"19/06/2007\")\n",
        "]"
      ]
    },
    {
      "cell_type": "markdown",
      "source": [
        "## Dada la lista estudiantes:\n",
        "> - Hacer una celda para resolver cada punto.\n",
        "- El TP resuelto será revisado en tu repositorio, no es necesario que lo envíes, pero sí que lo pushees correctamente.\n",
        "- En la nota inicial se contempla:\n",
        "  - La incorporación de este documento a tu propio respositorio.\n",
        "  - El pusheo de los cambios realizados.\n",
        "  - La resolución de los ejercicios propuestos.\n"
      ],
      "metadata": {
        "id": "rd6Ug6v3J4uN"
      }
    },
    {
      "cell_type": "markdown",
      "source": [
        "1. Reemplaza todos los valores del nombre por los que obtengas del método title(). De esta manera las listas quedaran con los datos más homogéneos."
      ],
      "metadata": {
        "id": "wRLng-uURyJ3"
      }
    },
    {
      "cell_type": "code",
      "source": [
        "estudiantes = []\n",
        "for i in range(len(estudiantes_5c)):\n",
        "  nombre, divi, fecha_nac=estudiantes_5c[i]\n",
        "  estudiantes.append((nombre.title(),divi,fecha_nac))\n",
        "for i in range(len(estudiantes_5d)):\n",
        "  nombre, divi, fecha_nac=estudiantes_5c[i]\n",
        "  estudiantes.append((nombre.title(),divi, fecha_nac))\n",
        "for estudiante in estudiantes:\n",
        "  print(estudiante)"
      ],
      "metadata": {
        "id": "5lFqJoTaSIWi",
        "colab": {
          "base_uri": "https://localhost:8080/"
        },
        "outputId": "35b7c93c-f327-4117-fcd6-b070dd63866d"
      },
      "execution_count": 2,
      "outputs": [
        {
          "output_type": "stream",
          "name": "stdout",
          "text": [
            "('Abud Laspiur, Lourdes Mariel', 'C', '05/12/2006')\n",
            "('Amador, Luana Micaela', 'C', '09/12/2006')\n",
            "('Anaquin, Leonardo Ezequiel', 'C', '06/09/2005')\n",
            "('Araoz Sanchez, Lautaro Nahuel', 'C', '28/12/2005')\n",
            "('Argañaraz, Agostina Abril', 'C', '11/10/2006')\n",
            "('Barrera, Matias Ezequiel', 'C', '27/02/2007')\n",
            "('Barrozo Vedia, Joaquin Nicolas', 'C', '15/04/2006')\n",
            "('Bettinelli, Valentino', 'C', '12/07/2006')\n",
            "('Bracamonte Martinez, Salvador', 'C', '02/11/2005')\n",
            "('Colque Rivero, Ariana Zoe Del Valle', 'C', '27/12/2006')\n",
            "('Diaz, Dulce Maitena', 'C', '11/12/2006')\n",
            "('Figueroa, Santino Josue', 'C', '12/05/2007')\n",
            "('Flores Cardozo, Agustina Tiara', 'C', '18/03/2006')\n",
            "('Gallo, Octavio Ismael', 'C', '04/08/2006')\n",
            "('Galvan, Lourdes Yamila', 'C', '19/08/2005')\n",
            "('Giangreco, Vitto Tomasso', 'C', '21/03/2007')\n",
            "('Grancara, Martina Luna', 'C', '15/12/2006')\n",
            "('Guanca, Sara Elizabeth', 'C', '17/01/2007')\n",
            "('Lopez, Victoria Constanza', 'C', '12/11/2007')\n",
            "('Mamani Garrido, Rosario Agostina', 'C', '24/10/2006')\n",
            "('Marinaro, Martin Ezequiel', 'C', '03/11/2006')\n",
            "('Merluzzi Dagum, Ignacio', 'C', '22/12/2005')\n",
            "('Messina, Martina', 'C', '13/07/2005')\n",
            "('Rasuk, Karim', 'C', '13/07/2007')\n",
            "('Rios, Lucia Magali', 'C', '22/09/2006')\n",
            "('Sanchez Flores, Matías Agustín', 'C', '15/02/2007')\n",
            "('Scarano, Renato Marcelo', 'C', '06/12/2006')\n",
            "('Sierra, Lucas Mauricio', 'C', '03/04/2005')\n",
            "('Tapia, Martin Gabriel', 'C', '30/05/2006')\n",
            "('Vilte, Mia Antonella Alondra', 'C', '10/09/2005')\n",
            "('Virgillito, Katya Milena', 'C', '19/06/2007')\n",
            "('Abud Laspiur, Lourdes Mariel', 'C', '05/12/2006')\n",
            "('Amador, Luana Micaela', 'C', '09/12/2006')\n",
            "('Anaquin, Leonardo Ezequiel', 'C', '06/09/2005')\n",
            "('Araoz Sanchez, Lautaro Nahuel', 'C', '28/12/2005')\n",
            "('Argañaraz, Agostina Abril', 'C', '11/10/2006')\n",
            "('Barrera, Matias Ezequiel', 'C', '27/02/2007')\n",
            "('Barrozo Vedia, Joaquin Nicolas', 'C', '15/04/2006')\n",
            "('Bettinelli, Valentino', 'C', '12/07/2006')\n",
            "('Bracamonte Martinez, Salvador', 'C', '02/11/2005')\n",
            "('Colque Rivero, Ariana Zoe Del Valle', 'C', '27/12/2006')\n",
            "('Diaz, Dulce Maitena', 'C', '11/12/2006')\n",
            "('Figueroa, Santino Josue', 'C', '12/05/2007')\n",
            "('Flores Cardozo, Agustina Tiara', 'C', '18/03/2006')\n",
            "('Gallo, Octavio Ismael', 'C', '04/08/2006')\n",
            "('Galvan, Lourdes Yamila', 'C', '19/08/2005')\n",
            "('Giangreco, Vitto Tomasso', 'C', '21/03/2007')\n",
            "('Grancara, Martina Luna', 'C', '15/12/2006')\n",
            "('Guanca, Sara Elizabeth', 'C', '17/01/2007')\n",
            "('Lopez, Victoria Constanza', 'C', '12/11/2007')\n",
            "('Mamani Garrido, Rosario Agostina', 'C', '24/10/2006')\n",
            "('Marinaro, Martin Ezequiel', 'C', '03/11/2006')\n",
            "('Merluzzi Dagum, Ignacio', 'C', '22/12/2005')\n",
            "('Messina, Martina', 'C', '13/07/2005')\n",
            "('Rasuk, Karim', 'C', '13/07/2007')\n",
            "('Rios, Lucia Magali', 'C', '22/09/2006')\n"
          ]
        }
      ]
    },
    {
      "cell_type": "markdown",
      "source": [
        "2. Genera una lista de diccionarios con los datos de las listas, donde las claves de los mismos serán:\n",
        "- \"apellido\"\n",
        "- \"nombre\"\n",
        "- \"curso\"\n",
        "- \"division\"\n",
        "- \"feha_de_nacimiento\"\n",
        "\n",
        "Muestra la información generada."
      ],
      "metadata": {
        "id": "dYEGkYZyLy9I"
      }
    },
    {
      "cell_type": "code",
      "source": [
        "lista_dict=[]\n",
        "for estudiante in estudiantes:\n",
        "   nombre_completo, division, fecha_nacimiento=estudiante\n",
        "   apellido, nombre=nombre_completo.split(\",\")\n",
        "   nombre=nombre.strip()\n",
        "   diccionario={}\n",
        "   diccionario[\"nombre\"]=nombre\n",
        "   diccionario[\"apellido\"] = apellido\n",
        "   diccionario[\"division\"]=division\n",
        "   diccionario[\"curso\"]=5\n",
        "   diccionario[\"fecha_nacimiento\"]=fecha_nacimiento\n",
        "   lista_dict.append(diccionario)\n",
        "for estudiante in lista_dict:\n",
        "   print(estudiante)"
      ],
      "metadata": {
        "id": "zfJo_1uy9y8P",
        "colab": {
          "base_uri": "https://localhost:8080/"
        },
        "outputId": "ee225fc0-f477-4b84-8f6d-fa0f78d90d88"
      },
      "execution_count": 3,
      "outputs": [
        {
          "output_type": "stream",
          "name": "stdout",
          "text": [
            "{'nombre': 'Lourdes Mariel', 'apellido': 'Abud Laspiur', 'division': 'C', 'curso': 5, 'fecha_nacimiento': '05/12/2006'}\n",
            "{'nombre': 'Luana Micaela', 'apellido': 'Amador', 'division': 'C', 'curso': 5, 'fecha_nacimiento': '09/12/2006'}\n",
            "{'nombre': 'Leonardo Ezequiel', 'apellido': 'Anaquin', 'division': 'C', 'curso': 5, 'fecha_nacimiento': '06/09/2005'}\n",
            "{'nombre': 'Lautaro Nahuel', 'apellido': 'Araoz Sanchez', 'division': 'C', 'curso': 5, 'fecha_nacimiento': '28/12/2005'}\n",
            "{'nombre': 'Agostina Abril', 'apellido': 'Argañaraz', 'division': 'C', 'curso': 5, 'fecha_nacimiento': '11/10/2006'}\n",
            "{'nombre': 'Matias Ezequiel', 'apellido': 'Barrera', 'division': 'C', 'curso': 5, 'fecha_nacimiento': '27/02/2007'}\n",
            "{'nombre': 'Joaquin Nicolas', 'apellido': 'Barrozo Vedia', 'division': 'C', 'curso': 5, 'fecha_nacimiento': '15/04/2006'}\n",
            "{'nombre': 'Valentino', 'apellido': 'Bettinelli', 'division': 'C', 'curso': 5, 'fecha_nacimiento': '12/07/2006'}\n",
            "{'nombre': 'Salvador', 'apellido': 'Bracamonte Martinez', 'division': 'C', 'curso': 5, 'fecha_nacimiento': '02/11/2005'}\n",
            "{'nombre': 'Ariana Zoe Del Valle', 'apellido': 'Colque Rivero', 'division': 'C', 'curso': 5, 'fecha_nacimiento': '27/12/2006'}\n",
            "{'nombre': 'Dulce Maitena', 'apellido': 'Diaz', 'division': 'C', 'curso': 5, 'fecha_nacimiento': '11/12/2006'}\n",
            "{'nombre': 'Santino Josue', 'apellido': 'Figueroa', 'division': 'C', 'curso': 5, 'fecha_nacimiento': '12/05/2007'}\n",
            "{'nombre': 'Agustina Tiara', 'apellido': 'Flores Cardozo', 'division': 'C', 'curso': 5, 'fecha_nacimiento': '18/03/2006'}\n",
            "{'nombre': 'Octavio Ismael', 'apellido': 'Gallo', 'division': 'C', 'curso': 5, 'fecha_nacimiento': '04/08/2006'}\n",
            "{'nombre': 'Lourdes Yamila', 'apellido': 'Galvan', 'division': 'C', 'curso': 5, 'fecha_nacimiento': '19/08/2005'}\n",
            "{'nombre': 'Vitto Tomasso', 'apellido': 'Giangreco', 'division': 'C', 'curso': 5, 'fecha_nacimiento': '21/03/2007'}\n",
            "{'nombre': 'Martina Luna', 'apellido': 'Grancara', 'division': 'C', 'curso': 5, 'fecha_nacimiento': '15/12/2006'}\n",
            "{'nombre': 'Sara Elizabeth', 'apellido': 'Guanca', 'division': 'C', 'curso': 5, 'fecha_nacimiento': '17/01/2007'}\n",
            "{'nombre': 'Victoria Constanza', 'apellido': 'Lopez', 'division': 'C', 'curso': 5, 'fecha_nacimiento': '12/11/2007'}\n",
            "{'nombre': 'Rosario Agostina', 'apellido': 'Mamani Garrido', 'division': 'C', 'curso': 5, 'fecha_nacimiento': '24/10/2006'}\n",
            "{'nombre': 'Martin Ezequiel', 'apellido': 'Marinaro', 'division': 'C', 'curso': 5, 'fecha_nacimiento': '03/11/2006'}\n",
            "{'nombre': 'Ignacio', 'apellido': 'Merluzzi Dagum', 'division': 'C', 'curso': 5, 'fecha_nacimiento': '22/12/2005'}\n",
            "{'nombre': 'Martina', 'apellido': 'Messina', 'division': 'C', 'curso': 5, 'fecha_nacimiento': '13/07/2005'}\n",
            "{'nombre': 'Karim', 'apellido': 'Rasuk', 'division': 'C', 'curso': 5, 'fecha_nacimiento': '13/07/2007'}\n",
            "{'nombre': 'Lucia Magali', 'apellido': 'Rios', 'division': 'C', 'curso': 5, 'fecha_nacimiento': '22/09/2006'}\n",
            "{'nombre': 'Matías Agustín', 'apellido': 'Sanchez Flores', 'division': 'C', 'curso': 5, 'fecha_nacimiento': '15/02/2007'}\n",
            "{'nombre': 'Renato Marcelo', 'apellido': 'Scarano', 'division': 'C', 'curso': 5, 'fecha_nacimiento': '06/12/2006'}\n",
            "{'nombre': 'Lucas Mauricio', 'apellido': 'Sierra', 'division': 'C', 'curso': 5, 'fecha_nacimiento': '03/04/2005'}\n",
            "{'nombre': 'Martin Gabriel', 'apellido': 'Tapia', 'division': 'C', 'curso': 5, 'fecha_nacimiento': '30/05/2006'}\n",
            "{'nombre': 'Mia Antonella Alondra', 'apellido': 'Vilte', 'division': 'C', 'curso': 5, 'fecha_nacimiento': '10/09/2005'}\n",
            "{'nombre': 'Katya Milena', 'apellido': 'Virgillito', 'division': 'C', 'curso': 5, 'fecha_nacimiento': '19/06/2007'}\n",
            "{'nombre': 'Lourdes Mariel', 'apellido': 'Abud Laspiur', 'division': 'C', 'curso': 5, 'fecha_nacimiento': '05/12/2006'}\n",
            "{'nombre': 'Luana Micaela', 'apellido': 'Amador', 'division': 'C', 'curso': 5, 'fecha_nacimiento': '09/12/2006'}\n",
            "{'nombre': 'Leonardo Ezequiel', 'apellido': 'Anaquin', 'division': 'C', 'curso': 5, 'fecha_nacimiento': '06/09/2005'}\n",
            "{'nombre': 'Lautaro Nahuel', 'apellido': 'Araoz Sanchez', 'division': 'C', 'curso': 5, 'fecha_nacimiento': '28/12/2005'}\n",
            "{'nombre': 'Agostina Abril', 'apellido': 'Argañaraz', 'division': 'C', 'curso': 5, 'fecha_nacimiento': '11/10/2006'}\n",
            "{'nombre': 'Matias Ezequiel', 'apellido': 'Barrera', 'division': 'C', 'curso': 5, 'fecha_nacimiento': '27/02/2007'}\n",
            "{'nombre': 'Joaquin Nicolas', 'apellido': 'Barrozo Vedia', 'division': 'C', 'curso': 5, 'fecha_nacimiento': '15/04/2006'}\n",
            "{'nombre': 'Valentino', 'apellido': 'Bettinelli', 'division': 'C', 'curso': 5, 'fecha_nacimiento': '12/07/2006'}\n",
            "{'nombre': 'Salvador', 'apellido': 'Bracamonte Martinez', 'division': 'C', 'curso': 5, 'fecha_nacimiento': '02/11/2005'}\n",
            "{'nombre': 'Ariana Zoe Del Valle', 'apellido': 'Colque Rivero', 'division': 'C', 'curso': 5, 'fecha_nacimiento': '27/12/2006'}\n",
            "{'nombre': 'Dulce Maitena', 'apellido': 'Diaz', 'division': 'C', 'curso': 5, 'fecha_nacimiento': '11/12/2006'}\n",
            "{'nombre': 'Santino Josue', 'apellido': 'Figueroa', 'division': 'C', 'curso': 5, 'fecha_nacimiento': '12/05/2007'}\n",
            "{'nombre': 'Agustina Tiara', 'apellido': 'Flores Cardozo', 'division': 'C', 'curso': 5, 'fecha_nacimiento': '18/03/2006'}\n",
            "{'nombre': 'Octavio Ismael', 'apellido': 'Gallo', 'division': 'C', 'curso': 5, 'fecha_nacimiento': '04/08/2006'}\n",
            "{'nombre': 'Lourdes Yamila', 'apellido': 'Galvan', 'division': 'C', 'curso': 5, 'fecha_nacimiento': '19/08/2005'}\n",
            "{'nombre': 'Vitto Tomasso', 'apellido': 'Giangreco', 'division': 'C', 'curso': 5, 'fecha_nacimiento': '21/03/2007'}\n",
            "{'nombre': 'Martina Luna', 'apellido': 'Grancara', 'division': 'C', 'curso': 5, 'fecha_nacimiento': '15/12/2006'}\n",
            "{'nombre': 'Sara Elizabeth', 'apellido': 'Guanca', 'division': 'C', 'curso': 5, 'fecha_nacimiento': '17/01/2007'}\n",
            "{'nombre': 'Victoria Constanza', 'apellido': 'Lopez', 'division': 'C', 'curso': 5, 'fecha_nacimiento': '12/11/2007'}\n",
            "{'nombre': 'Rosario Agostina', 'apellido': 'Mamani Garrido', 'division': 'C', 'curso': 5, 'fecha_nacimiento': '24/10/2006'}\n",
            "{'nombre': 'Martin Ezequiel', 'apellido': 'Marinaro', 'division': 'C', 'curso': 5, 'fecha_nacimiento': '03/11/2006'}\n",
            "{'nombre': 'Ignacio', 'apellido': 'Merluzzi Dagum', 'division': 'C', 'curso': 5, 'fecha_nacimiento': '22/12/2005'}\n",
            "{'nombre': 'Martina', 'apellido': 'Messina', 'division': 'C', 'curso': 5, 'fecha_nacimiento': '13/07/2005'}\n",
            "{'nombre': 'Karim', 'apellido': 'Rasuk', 'division': 'C', 'curso': 5, 'fecha_nacimiento': '13/07/2007'}\n",
            "{'nombre': 'Lucia Magali', 'apellido': 'Rios', 'division': 'C', 'curso': 5, 'fecha_nacimiento': '22/09/2006'}\n"
          ]
        }
      ]
    },
    {
      "cell_type": "markdown",
      "source": [
        "3. Genera un diccionario en python, en donde la clave sea cada nombre que aparece en las listas y el valor será la cantidad de veces que se encuentra el mismo.\n",
        "Para este punto es posible fusionar ambas listas en una sola, recordá que hay un método que realiza esta acción.\n",
        "\n",
        "Mostrá la informacion generada"
      ],
      "metadata": {
        "id": "UW2dlBsGMAte"
      }
    },
    {
      "cell_type": "code",
      "source": [
        "lista_nombres= []\n",
        "for estudiante in estudiantes:\n",
        "  nombre_completo= estudiante [0].replace(\",\",\"\").split()\n",
        "  lista_nombres.extend(nombre_completo)\n",
        "ocurrencias_nombres= {}\n",
        "for nombre in lista_nombres:\n",
        "  if nombre in ocurrencias_nombres.keys():\n",
        "   ocurrencias_nombres [nombre] += 1\n",
        "  else:\n",
        "   ocurrencias_nombres [nombre] = 1\n",
        "for nombre,ocurrencia in ocurrencias_nombres.items():\n",
        "   print(f\" El nombre {nombre} aparecio {ocurrencia}\")"
      ],
      "metadata": {
        "id": "EawAy4SANtkl",
        "outputId": "dc7c6eea-6b0b-4d3c-b539-0f9c3fa463bb",
        "colab": {
          "base_uri": "https://localhost:8080/"
        }
      },
      "execution_count": 4,
      "outputs": [
        {
          "output_type": "stream",
          "name": "stdout",
          "text": [
            " El nombre Abud aparecio 2\n",
            " El nombre Laspiur aparecio 2\n",
            " El nombre Lourdes aparecio 4\n",
            " El nombre Mariel aparecio 2\n",
            " El nombre Amador aparecio 2\n",
            " El nombre Luana aparecio 2\n",
            " El nombre Micaela aparecio 2\n",
            " El nombre Anaquin aparecio 2\n",
            " El nombre Leonardo aparecio 2\n",
            " El nombre Ezequiel aparecio 6\n",
            " El nombre Araoz aparecio 2\n",
            " El nombre Sanchez aparecio 3\n",
            " El nombre Lautaro aparecio 2\n",
            " El nombre Nahuel aparecio 2\n",
            " El nombre Argañaraz aparecio 2\n",
            " El nombre Agostina aparecio 4\n",
            " El nombre Abril aparecio 2\n",
            " El nombre Barrera aparecio 2\n",
            " El nombre Matias aparecio 2\n",
            " El nombre Barrozo aparecio 2\n",
            " El nombre Vedia aparecio 2\n",
            " El nombre Joaquin aparecio 2\n",
            " El nombre Nicolas aparecio 2\n",
            " El nombre Bettinelli aparecio 2\n",
            " El nombre Valentino aparecio 2\n",
            " El nombre Bracamonte aparecio 2\n",
            " El nombre Martinez aparecio 2\n",
            " El nombre Salvador aparecio 2\n",
            " El nombre Colque aparecio 2\n",
            " El nombre Rivero aparecio 2\n",
            " El nombre Ariana aparecio 2\n",
            " El nombre Zoe aparecio 2\n",
            " El nombre Del aparecio 2\n",
            " El nombre Valle aparecio 2\n",
            " El nombre Diaz aparecio 2\n",
            " El nombre Dulce aparecio 2\n",
            " El nombre Maitena aparecio 2\n",
            " El nombre Figueroa aparecio 2\n",
            " El nombre Santino aparecio 2\n",
            " El nombre Josue aparecio 2\n",
            " El nombre Flores aparecio 3\n",
            " El nombre Cardozo aparecio 2\n",
            " El nombre Agustina aparecio 2\n",
            " El nombre Tiara aparecio 2\n",
            " El nombre Gallo aparecio 2\n",
            " El nombre Octavio aparecio 2\n",
            " El nombre Ismael aparecio 2\n",
            " El nombre Galvan aparecio 2\n",
            " El nombre Yamila aparecio 2\n",
            " El nombre Giangreco aparecio 2\n",
            " El nombre Vitto aparecio 2\n",
            " El nombre Tomasso aparecio 2\n",
            " El nombre Grancara aparecio 2\n",
            " El nombre Martina aparecio 4\n",
            " El nombre Luna aparecio 2\n",
            " El nombre Guanca aparecio 2\n",
            " El nombre Sara aparecio 2\n",
            " El nombre Elizabeth aparecio 2\n",
            " El nombre Lopez aparecio 2\n",
            " El nombre Victoria aparecio 2\n",
            " El nombre Constanza aparecio 2\n",
            " El nombre Mamani aparecio 2\n",
            " El nombre Garrido aparecio 2\n",
            " El nombre Rosario aparecio 2\n",
            " El nombre Marinaro aparecio 2\n",
            " El nombre Martin aparecio 3\n",
            " El nombre Merluzzi aparecio 2\n",
            " El nombre Dagum aparecio 2\n",
            " El nombre Ignacio aparecio 2\n",
            " El nombre Messina aparecio 2\n",
            " El nombre Rasuk aparecio 2\n",
            " El nombre Karim aparecio 2\n",
            " El nombre Rios aparecio 2\n",
            " El nombre Lucia aparecio 2\n",
            " El nombre Magali aparecio 2\n",
            " El nombre Matías aparecio 1\n",
            " El nombre Agustín aparecio 1\n",
            " El nombre Scarano aparecio 1\n",
            " El nombre Renato aparecio 1\n",
            " El nombre Marcelo aparecio 1\n",
            " El nombre Sierra aparecio 1\n",
            " El nombre Lucas aparecio 1\n",
            " El nombre Mauricio aparecio 1\n",
            " El nombre Tapia aparecio 1\n",
            " El nombre Gabriel aparecio 1\n",
            " El nombre Vilte aparecio 1\n",
            " El nombre Mia aparecio 1\n",
            " El nombre Antonella aparecio 1\n",
            " El nombre Alondra aparecio 1\n",
            " El nombre Virgillito aparecio 1\n",
            " El nombre Katya aparecio 1\n",
            " El nombre Milena aparecio 1\n"
          ]
        }
      ]
    },
    {
      "cell_type": "markdown",
      "source": [
        "4. Genera un diccionario en python, en donde la clave sea cada apellido que aparece en las listas y el valor será la cantidad de veces que se encuentra el mismo.\n",
        "Para este punto es posible fusionar ambas listas en una sola, recordá que hay un método que realiza esta acción."
      ],
      "metadata": {
        "id": "kZeEHUYVNwGV"
      }
    },
    {
      "cell_type": "code",
      "source": [
        "lista_apellidos= []\n",
        "for estudiante in estudiantes:\n",
        "  apellido_completo= estudiante [0].replace(\",\",\"\").split()\n",
        "  lista_apellidos.extend(apellido_completo)\n",
        "\n",
        "ocurrencias_apellidos= {}\n",
        "for apellido in lista_apellidos:\n",
        "  if apellido in ocurrencias_apellidos.keys():\n",
        "   ocurrencias_apellidos [apellido] += 1\n",
        "  else:\n",
        "   ocurrencias_apellidos [apellido] = 1\n",
        "for apellido,ocurrencia in ocurrencias_apellidos.items():\n",
        "  print(f\" El apellido {apellido} aparecio {ocurrencia}\")"
      ],
      "metadata": {
        "id": "q05GnxXgORzt",
        "colab": {
          "base_uri": "https://localhost:8080/"
        },
        "outputId": "f6e8ce83-f013-4931-b300-049420ff1946"
      },
      "execution_count": 5,
      "outputs": [
        {
          "output_type": "stream",
          "name": "stdout",
          "text": [
            " El apellido Abud aparecio 2\n",
            " El apellido Laspiur aparecio 2\n",
            " El apellido Lourdes aparecio 4\n",
            " El apellido Mariel aparecio 2\n",
            " El apellido Amador aparecio 2\n",
            " El apellido Luana aparecio 2\n",
            " El apellido Micaela aparecio 2\n",
            " El apellido Anaquin aparecio 2\n",
            " El apellido Leonardo aparecio 2\n",
            " El apellido Ezequiel aparecio 6\n",
            " El apellido Araoz aparecio 2\n",
            " El apellido Sanchez aparecio 3\n",
            " El apellido Lautaro aparecio 2\n",
            " El apellido Nahuel aparecio 2\n",
            " El apellido Argañaraz aparecio 2\n",
            " El apellido Agostina aparecio 4\n",
            " El apellido Abril aparecio 2\n",
            " El apellido Barrera aparecio 2\n",
            " El apellido Matias aparecio 2\n",
            " El apellido Barrozo aparecio 2\n",
            " El apellido Vedia aparecio 2\n",
            " El apellido Joaquin aparecio 2\n",
            " El apellido Nicolas aparecio 2\n",
            " El apellido Bettinelli aparecio 2\n",
            " El apellido Valentino aparecio 2\n",
            " El apellido Bracamonte aparecio 2\n",
            " El apellido Martinez aparecio 2\n",
            " El apellido Salvador aparecio 2\n",
            " El apellido Colque aparecio 2\n",
            " El apellido Rivero aparecio 2\n",
            " El apellido Ariana aparecio 2\n",
            " El apellido Zoe aparecio 2\n",
            " El apellido Del aparecio 2\n",
            " El apellido Valle aparecio 2\n",
            " El apellido Diaz aparecio 2\n",
            " El apellido Dulce aparecio 2\n",
            " El apellido Maitena aparecio 2\n",
            " El apellido Figueroa aparecio 2\n",
            " El apellido Santino aparecio 2\n",
            " El apellido Josue aparecio 2\n",
            " El apellido Flores aparecio 3\n",
            " El apellido Cardozo aparecio 2\n",
            " El apellido Agustina aparecio 2\n",
            " El apellido Tiara aparecio 2\n",
            " El apellido Gallo aparecio 2\n",
            " El apellido Octavio aparecio 2\n",
            " El apellido Ismael aparecio 2\n",
            " El apellido Galvan aparecio 2\n",
            " El apellido Yamila aparecio 2\n",
            " El apellido Giangreco aparecio 2\n",
            " El apellido Vitto aparecio 2\n",
            " El apellido Tomasso aparecio 2\n",
            " El apellido Grancara aparecio 2\n",
            " El apellido Martina aparecio 4\n",
            " El apellido Luna aparecio 2\n",
            " El apellido Guanca aparecio 2\n",
            " El apellido Sara aparecio 2\n",
            " El apellido Elizabeth aparecio 2\n",
            " El apellido Lopez aparecio 2\n",
            " El apellido Victoria aparecio 2\n",
            " El apellido Constanza aparecio 2\n",
            " El apellido Mamani aparecio 2\n",
            " El apellido Garrido aparecio 2\n",
            " El apellido Rosario aparecio 2\n",
            " El apellido Marinaro aparecio 2\n",
            " El apellido Martin aparecio 3\n",
            " El apellido Merluzzi aparecio 2\n",
            " El apellido Dagum aparecio 2\n",
            " El apellido Ignacio aparecio 2\n",
            " El apellido Messina aparecio 2\n",
            " El apellido Rasuk aparecio 2\n",
            " El apellido Karim aparecio 2\n",
            " El apellido Rios aparecio 2\n",
            " El apellido Lucia aparecio 2\n",
            " El apellido Magali aparecio 2\n",
            " El apellido Matías aparecio 1\n",
            " El apellido Agustín aparecio 1\n",
            " El apellido Scarano aparecio 1\n",
            " El apellido Renato aparecio 1\n",
            " El apellido Marcelo aparecio 1\n",
            " El apellido Sierra aparecio 1\n",
            " El apellido Lucas aparecio 1\n",
            " El apellido Mauricio aparecio 1\n",
            " El apellido Tapia aparecio 1\n",
            " El apellido Gabriel aparecio 1\n",
            " El apellido Vilte aparecio 1\n",
            " El apellido Mia aparecio 1\n",
            " El apellido Antonella aparecio 1\n",
            " El apellido Alondra aparecio 1\n",
            " El apellido Virgillito aparecio 1\n",
            " El apellido Katya aparecio 1\n",
            " El apellido Milena aparecio 1\n"
          ]
        }
      ]
    },
    {
      "cell_type": "markdown",
      "source": [
        "5. Solicita al usuario que ingrese un apellido y muestra  a todos los estudiantes con ese apellido."
      ],
      "metadata": {
        "id": "ywYmA2JQNp3T"
      }
    },
    {
      "cell_type": "code",
      "source": [
        "apellido_buscado = input(\"Ingrese un apellido: \").title()\n",
        "encontrados = False\n",
        "for estudiante in estudiantes:\n",
        "    if apellido_buscado in estudiante[0]:\n",
        "        print(estudiante)\n",
        "        encontrados = True\n",
        "if not encontrados:\n",
        "    print(\"No se encontraron estudiantes con ese apellido.\")"
      ],
      "metadata": {
        "id": "Cnp334ZrOCjK",
        "colab": {
          "base_uri": "https://localhost:8080/"
        },
        "outputId": "d4025aa3-4ffb-4013-98e8-7cd86cccb6a4"
      },
      "execution_count": 6,
      "outputs": [
        {
          "output_type": "stream",
          "name": "stdout",
          "text": [
            "Ingrese un apellido: Colque \n",
            "('Colque Rivero, Ariana Zoe Del Valle', 'C', '27/12/2006')\n",
            "('Colque Rivero, Ariana Zoe Del Valle', 'C', '27/12/2006')\n"
          ]
        }
      ]
    },
    {
      "cell_type": "markdown",
      "source": [
        "6. Solicita al usuario que ingrese un nombre y muestra a todos los estudiantes con el nombre ingresado."
      ],
      "metadata": {
        "id": "iAXts6saODoU"
      }
    },
    {
      "cell_type": "code",
      "source": [
        "nombre_buscado = input(\"Ingrese un nombre: \").title()\n",
        "encontrados = False\n",
        "for estudiante in estudiantes:\n",
        "    if nombre_buscado in estudiante[0]:\n",
        "        print(estudiante)\n",
        "        encontrados = True\n",
        "if not encontrados:\n",
        "    print(\"No se encontraron estudiantes con ese nombre.\")"
      ],
      "metadata": {
        "id": "E_vBzeGz99Y1",
        "colab": {
          "base_uri": "https://localhost:8080/"
        },
        "outputId": "c86186b7-24e6-4a9c-9602-7968325dbf3c"
      },
      "execution_count": 7,
      "outputs": [
        {
          "output_type": "stream",
          "name": "stdout",
          "text": [
            "Ingrese un nombre: Ariana \n",
            "('Colque Rivero, Ariana Zoe Del Valle', 'C', '27/12/2006')\n",
            "('Colque Rivero, Ariana Zoe Del Valle', 'C', '27/12/2006')\n"
          ]
        }
      ]
    },
    {
      "cell_type": "markdown",
      "source": [
        "7. Busca el diccionario con tu información dentro de la lista y cámbiate de división, de tal manera que si estas en 5C, con el cambio quedes en 5D y viceversa."
      ],
      "metadata": {
        "id": "T4PFiwwdOK27"
      }
    },
    {
      "cell_type": "code",
      "source": [
        "nombre = input(\"ingrese su nombre: \").title()\n",
        "apellido = input(\"ingrese su apellido: \").title()\n",
        "\n",
        "for i, persona in enumerate(lista_dict):\n",
        "    if persona[\"apellido\"] == apellido and persona[\"nombre\"] == nombre:\n",
        "        if persona[\"division\"] == \"D\":\n",
        "            lista_dict[i][\"division\"] = \"C\"\n",
        "        else:\n",
        "            lista_dict[i][\"division\"] = \"D\"\n",
        "        break\n",
        "\n",
        "for estudiante in lista_dict:\n",
        "    print(estudiante)"
      ],
      "metadata": {
        "colab": {
          "base_uri": "https://localhost:8080/"
        },
        "id": "XTgDPJKPQfl6",
        "outputId": "a8aaa414-14e4-4a1d-abbb-595561b2694c"
      },
      "execution_count": 8,
      "outputs": [
        {
          "output_type": "stream",
          "name": "stdout",
          "text": [
            "ingrese su nombre: Ariana \n",
            "ingrese su apellido: Colque \n",
            "{'nombre': 'Lourdes Mariel', 'apellido': 'Abud Laspiur', 'division': 'C', 'curso': 5, 'fecha_nacimiento': '05/12/2006'}\n",
            "{'nombre': 'Luana Micaela', 'apellido': 'Amador', 'division': 'C', 'curso': 5, 'fecha_nacimiento': '09/12/2006'}\n",
            "{'nombre': 'Leonardo Ezequiel', 'apellido': 'Anaquin', 'division': 'C', 'curso': 5, 'fecha_nacimiento': '06/09/2005'}\n",
            "{'nombre': 'Lautaro Nahuel', 'apellido': 'Araoz Sanchez', 'division': 'C', 'curso': 5, 'fecha_nacimiento': '28/12/2005'}\n",
            "{'nombre': 'Agostina Abril', 'apellido': 'Argañaraz', 'division': 'C', 'curso': 5, 'fecha_nacimiento': '11/10/2006'}\n",
            "{'nombre': 'Matias Ezequiel', 'apellido': 'Barrera', 'division': 'C', 'curso': 5, 'fecha_nacimiento': '27/02/2007'}\n",
            "{'nombre': 'Joaquin Nicolas', 'apellido': 'Barrozo Vedia', 'division': 'C', 'curso': 5, 'fecha_nacimiento': '15/04/2006'}\n",
            "{'nombre': 'Valentino', 'apellido': 'Bettinelli', 'division': 'C', 'curso': 5, 'fecha_nacimiento': '12/07/2006'}\n",
            "{'nombre': 'Salvador', 'apellido': 'Bracamonte Martinez', 'division': 'C', 'curso': 5, 'fecha_nacimiento': '02/11/2005'}\n",
            "{'nombre': 'Ariana Zoe Del Valle', 'apellido': 'Colque Rivero', 'division': 'C', 'curso': 5, 'fecha_nacimiento': '27/12/2006'}\n",
            "{'nombre': 'Dulce Maitena', 'apellido': 'Diaz', 'division': 'C', 'curso': 5, 'fecha_nacimiento': '11/12/2006'}\n",
            "{'nombre': 'Santino Josue', 'apellido': 'Figueroa', 'division': 'C', 'curso': 5, 'fecha_nacimiento': '12/05/2007'}\n",
            "{'nombre': 'Agustina Tiara', 'apellido': 'Flores Cardozo', 'division': 'C', 'curso': 5, 'fecha_nacimiento': '18/03/2006'}\n",
            "{'nombre': 'Octavio Ismael', 'apellido': 'Gallo', 'division': 'C', 'curso': 5, 'fecha_nacimiento': '04/08/2006'}\n",
            "{'nombre': 'Lourdes Yamila', 'apellido': 'Galvan', 'division': 'C', 'curso': 5, 'fecha_nacimiento': '19/08/2005'}\n",
            "{'nombre': 'Vitto Tomasso', 'apellido': 'Giangreco', 'division': 'C', 'curso': 5, 'fecha_nacimiento': '21/03/2007'}\n",
            "{'nombre': 'Martina Luna', 'apellido': 'Grancara', 'division': 'C', 'curso': 5, 'fecha_nacimiento': '15/12/2006'}\n",
            "{'nombre': 'Sara Elizabeth', 'apellido': 'Guanca', 'division': 'C', 'curso': 5, 'fecha_nacimiento': '17/01/2007'}\n",
            "{'nombre': 'Victoria Constanza', 'apellido': 'Lopez', 'division': 'C', 'curso': 5, 'fecha_nacimiento': '12/11/2007'}\n",
            "{'nombre': 'Rosario Agostina', 'apellido': 'Mamani Garrido', 'division': 'C', 'curso': 5, 'fecha_nacimiento': '24/10/2006'}\n",
            "{'nombre': 'Martin Ezequiel', 'apellido': 'Marinaro', 'division': 'C', 'curso': 5, 'fecha_nacimiento': '03/11/2006'}\n",
            "{'nombre': 'Ignacio', 'apellido': 'Merluzzi Dagum', 'division': 'C', 'curso': 5, 'fecha_nacimiento': '22/12/2005'}\n",
            "{'nombre': 'Martina', 'apellido': 'Messina', 'division': 'C', 'curso': 5, 'fecha_nacimiento': '13/07/2005'}\n",
            "{'nombre': 'Karim', 'apellido': 'Rasuk', 'division': 'C', 'curso': 5, 'fecha_nacimiento': '13/07/2007'}\n",
            "{'nombre': 'Lucia Magali', 'apellido': 'Rios', 'division': 'C', 'curso': 5, 'fecha_nacimiento': '22/09/2006'}\n",
            "{'nombre': 'Matías Agustín', 'apellido': 'Sanchez Flores', 'division': 'C', 'curso': 5, 'fecha_nacimiento': '15/02/2007'}\n",
            "{'nombre': 'Renato Marcelo', 'apellido': 'Scarano', 'division': 'C', 'curso': 5, 'fecha_nacimiento': '06/12/2006'}\n",
            "{'nombre': 'Lucas Mauricio', 'apellido': 'Sierra', 'division': 'C', 'curso': 5, 'fecha_nacimiento': '03/04/2005'}\n",
            "{'nombre': 'Martin Gabriel', 'apellido': 'Tapia', 'division': 'C', 'curso': 5, 'fecha_nacimiento': '30/05/2006'}\n",
            "{'nombre': 'Mia Antonella Alondra', 'apellido': 'Vilte', 'division': 'C', 'curso': 5, 'fecha_nacimiento': '10/09/2005'}\n",
            "{'nombre': 'Katya Milena', 'apellido': 'Virgillito', 'division': 'C', 'curso': 5, 'fecha_nacimiento': '19/06/2007'}\n",
            "{'nombre': 'Lourdes Mariel', 'apellido': 'Abud Laspiur', 'division': 'C', 'curso': 5, 'fecha_nacimiento': '05/12/2006'}\n",
            "{'nombre': 'Luana Micaela', 'apellido': 'Amador', 'division': 'C', 'curso': 5, 'fecha_nacimiento': '09/12/2006'}\n",
            "{'nombre': 'Leonardo Ezequiel', 'apellido': 'Anaquin', 'division': 'C', 'curso': 5, 'fecha_nacimiento': '06/09/2005'}\n",
            "{'nombre': 'Lautaro Nahuel', 'apellido': 'Araoz Sanchez', 'division': 'C', 'curso': 5, 'fecha_nacimiento': '28/12/2005'}\n",
            "{'nombre': 'Agostina Abril', 'apellido': 'Argañaraz', 'division': 'C', 'curso': 5, 'fecha_nacimiento': '11/10/2006'}\n",
            "{'nombre': 'Matias Ezequiel', 'apellido': 'Barrera', 'division': 'C', 'curso': 5, 'fecha_nacimiento': '27/02/2007'}\n",
            "{'nombre': 'Joaquin Nicolas', 'apellido': 'Barrozo Vedia', 'division': 'C', 'curso': 5, 'fecha_nacimiento': '15/04/2006'}\n",
            "{'nombre': 'Valentino', 'apellido': 'Bettinelli', 'division': 'C', 'curso': 5, 'fecha_nacimiento': '12/07/2006'}\n",
            "{'nombre': 'Salvador', 'apellido': 'Bracamonte Martinez', 'division': 'C', 'curso': 5, 'fecha_nacimiento': '02/11/2005'}\n",
            "{'nombre': 'Ariana Zoe Del Valle', 'apellido': 'Colque Rivero', 'division': 'C', 'curso': 5, 'fecha_nacimiento': '27/12/2006'}\n",
            "{'nombre': 'Dulce Maitena', 'apellido': 'Diaz', 'division': 'C', 'curso': 5, 'fecha_nacimiento': '11/12/2006'}\n",
            "{'nombre': 'Santino Josue', 'apellido': 'Figueroa', 'division': 'C', 'curso': 5, 'fecha_nacimiento': '12/05/2007'}\n",
            "{'nombre': 'Agustina Tiara', 'apellido': 'Flores Cardozo', 'division': 'C', 'curso': 5, 'fecha_nacimiento': '18/03/2006'}\n",
            "{'nombre': 'Octavio Ismael', 'apellido': 'Gallo', 'division': 'C', 'curso': 5, 'fecha_nacimiento': '04/08/2006'}\n",
            "{'nombre': 'Lourdes Yamila', 'apellido': 'Galvan', 'division': 'C', 'curso': 5, 'fecha_nacimiento': '19/08/2005'}\n",
            "{'nombre': 'Vitto Tomasso', 'apellido': 'Giangreco', 'division': 'C', 'curso': 5, 'fecha_nacimiento': '21/03/2007'}\n",
            "{'nombre': 'Martina Luna', 'apellido': 'Grancara', 'division': 'C', 'curso': 5, 'fecha_nacimiento': '15/12/2006'}\n",
            "{'nombre': 'Sara Elizabeth', 'apellido': 'Guanca', 'division': 'C', 'curso': 5, 'fecha_nacimiento': '17/01/2007'}\n",
            "{'nombre': 'Victoria Constanza', 'apellido': 'Lopez', 'division': 'C', 'curso': 5, 'fecha_nacimiento': '12/11/2007'}\n",
            "{'nombre': 'Rosario Agostina', 'apellido': 'Mamani Garrido', 'division': 'C', 'curso': 5, 'fecha_nacimiento': '24/10/2006'}\n",
            "{'nombre': 'Martin Ezequiel', 'apellido': 'Marinaro', 'division': 'C', 'curso': 5, 'fecha_nacimiento': '03/11/2006'}\n",
            "{'nombre': 'Ignacio', 'apellido': 'Merluzzi Dagum', 'division': 'C', 'curso': 5, 'fecha_nacimiento': '22/12/2005'}\n",
            "{'nombre': 'Martina', 'apellido': 'Messina', 'division': 'C', 'curso': 5, 'fecha_nacimiento': '13/07/2005'}\n",
            "{'nombre': 'Karim', 'apellido': 'Rasuk', 'division': 'C', 'curso': 5, 'fecha_nacimiento': '13/07/2007'}\n",
            "{'nombre': 'Lucia Magali', 'apellido': 'Rios', 'division': 'C', 'curso': 5, 'fecha_nacimiento': '22/09/2006'}\n"
          ]
        }
      ]
    },
    {
      "cell_type": "markdown",
      "source": [
        "8. Ordenar la lista alfabeticamente por nombre. Ascendente y descendentemente. Para elegir como ordenarla, mostrar un menú donde el usuario podrá decidir como quiere ver la salida."
      ],
      "metadata": {
        "id": "xfy8SFlZRVGf"
      }
    },
    {
      "cell_type": "code",
      "source": [
        "orden-input(\"Elija como ordenar la lista: \\nA. Ascendente InD. Descendente\").upper()\n",
        "if orden == \"A\":\n",
        "  lista_dict.sort(key=lambda x: x[\"nombre\"])\n",
        "  for estudiante in lista_dict:\n",
        "    print(estudiante)\n",
        "elif orden == \"D\":\n",
        "  lista_dict.sort(key=lambda x: x[\"nombre\"],reverse=True)\n",
        "  for estudiante in lista_dict:\n",
        "    print (estudiante)\n",
        "else:\n",
        "  print(\"Opcion invalida\")\n",
        "  orden=input(\"Elija como ordenar la lista: InA. Ascendente InD: Descendente\")"
      ],
      "metadata": {
        "id": "E4Onk1FNRUa2",
        "colab": {
          "base_uri": "https://localhost:8080/",
          "height": 332
        },
        "outputId": "3a79c360-be00-4b41-bf4a-fe90e62a69c1"
      },
      "execution_count": 9,
      "outputs": [
        {
          "output_type": "error",
          "ename": "NameError",
          "evalue": "name 'orden' is not defined",
          "traceback": [
            "\u001b[0;31m---------------------------------------------------------------------------\u001b[0m",
            "\u001b[0;31mNameError\u001b[0m                                 Traceback (most recent call last)",
            "\u001b[0;32m<ipython-input-9-12292cf3e040>\u001b[0m in \u001b[0;36m<cell line: 1>\u001b[0;34m()\u001b[0m\n\u001b[0;32m----> 1\u001b[0;31m \u001b[0morden\u001b[0m\u001b[0;34m-\u001b[0m\u001b[0minput\u001b[0m\u001b[0;34m(\u001b[0m\u001b[0;34m\"Elija como ordenar la lista: \\nA. Ascendente InD. Descendente\"\u001b[0m\u001b[0;34m)\u001b[0m\u001b[0;34m.\u001b[0m\u001b[0mupper\u001b[0m\u001b[0;34m(\u001b[0m\u001b[0;34m)\u001b[0m\u001b[0;34m\u001b[0m\u001b[0;34m\u001b[0m\u001b[0m\n\u001b[0m\u001b[1;32m      2\u001b[0m \u001b[0;32mif\u001b[0m \u001b[0morden\u001b[0m \u001b[0;34m==\u001b[0m \u001b[0;34m\"A\"\u001b[0m\u001b[0;34m:\u001b[0m\u001b[0;34m\u001b[0m\u001b[0;34m\u001b[0m\u001b[0m\n\u001b[1;32m      3\u001b[0m   \u001b[0mlista_dict\u001b[0m\u001b[0;34m.\u001b[0m\u001b[0msort\u001b[0m\u001b[0;34m(\u001b[0m\u001b[0mkey\u001b[0m\u001b[0;34m=\u001b[0m\u001b[0;32mlambda\u001b[0m \u001b[0mx\u001b[0m\u001b[0;34m:\u001b[0m \u001b[0mx\u001b[0m\u001b[0;34m[\u001b[0m\u001b[0;34m\"nombre\"\u001b[0m\u001b[0;34m]\u001b[0m\u001b[0;34m)\u001b[0m\u001b[0;34m\u001b[0m\u001b[0;34m\u001b[0m\u001b[0m\n\u001b[1;32m      4\u001b[0m   \u001b[0;32mfor\u001b[0m \u001b[0mestudiante\u001b[0m \u001b[0;32min\u001b[0m \u001b[0mlista_dict\u001b[0m\u001b[0;34m:\u001b[0m\u001b[0;34m\u001b[0m\u001b[0;34m\u001b[0m\u001b[0m\n\u001b[1;32m      5\u001b[0m     \u001b[0mprint\u001b[0m\u001b[0;34m(\u001b[0m\u001b[0mestudiante\u001b[0m\u001b[0;34m)\u001b[0m\u001b[0;34m\u001b[0m\u001b[0;34m\u001b[0m\u001b[0m\n",
            "\u001b[0;31mNameError\u001b[0m: name 'orden' is not defined"
          ]
        }
      ]
    },
    {
      "cell_type": "markdown",
      "source": [
        "9. Ordenar la lista alfabeticamente por apellido. Ascendente y descendentemente. Para elegir como ordenarla, mostrar un menú donde el usuario podrá decidir como quiere ver la salida."
      ],
      "metadata": {
        "id": "lW18NgPjRcGP"
      }
    },
    {
      "cell_type": "code",
      "source": [
        "orden_2=input(\"Elija como ordenar la lista: \\nA. Ascendente por apellido \\nD. Descendente por apellido \").upper()\n",
        "if orden_2 == \"A\":\n",
        "  lista_dict.sort(key=lambda x: x[\"apellido\"])\n",
        "  for estudiante in lista_dict:\n",
        "    print(estudiante)\n",
        "elif orden_2 == \"D\":\n",
        "  lista_dict.sort(key=lambda x: x[\"apellido\"],reverse=True)\n",
        "  for estudiante in lista_dict:\n",
        "    print(estudiante)\n",
        "else:\n",
        "  print(\"Opcion invalida\")"
      ],
      "metadata": {
        "id": "jTtWBnalRcoC",
        "colab": {
          "base_uri": "https://localhost:8080/"
        },
        "outputId": "37a4617e-05ea-46f4-f6b0-716f03084fcd"
      },
      "execution_count": 10,
      "outputs": [
        {
          "output_type": "stream",
          "name": "stdout",
          "text": [
            "Elija como ordenar la lista: \n",
            "A. Ascendente por apellido \n",
            "D. Descendente por apellido A\n",
            "{'nombre': 'Lourdes Mariel', 'apellido': 'Abud Laspiur', 'division': 'C', 'curso': 5, 'fecha_nacimiento': '05/12/2006'}\n",
            "{'nombre': 'Lourdes Mariel', 'apellido': 'Abud Laspiur', 'division': 'C', 'curso': 5, 'fecha_nacimiento': '05/12/2006'}\n",
            "{'nombre': 'Luana Micaela', 'apellido': 'Amador', 'division': 'C', 'curso': 5, 'fecha_nacimiento': '09/12/2006'}\n",
            "{'nombre': 'Luana Micaela', 'apellido': 'Amador', 'division': 'C', 'curso': 5, 'fecha_nacimiento': '09/12/2006'}\n",
            "{'nombre': 'Leonardo Ezequiel', 'apellido': 'Anaquin', 'division': 'C', 'curso': 5, 'fecha_nacimiento': '06/09/2005'}\n",
            "{'nombre': 'Leonardo Ezequiel', 'apellido': 'Anaquin', 'division': 'C', 'curso': 5, 'fecha_nacimiento': '06/09/2005'}\n",
            "{'nombre': 'Lautaro Nahuel', 'apellido': 'Araoz Sanchez', 'division': 'C', 'curso': 5, 'fecha_nacimiento': '28/12/2005'}\n",
            "{'nombre': 'Lautaro Nahuel', 'apellido': 'Araoz Sanchez', 'division': 'C', 'curso': 5, 'fecha_nacimiento': '28/12/2005'}\n",
            "{'nombre': 'Agostina Abril', 'apellido': 'Argañaraz', 'division': 'C', 'curso': 5, 'fecha_nacimiento': '11/10/2006'}\n",
            "{'nombre': 'Agostina Abril', 'apellido': 'Argañaraz', 'division': 'C', 'curso': 5, 'fecha_nacimiento': '11/10/2006'}\n",
            "{'nombre': 'Matias Ezequiel', 'apellido': 'Barrera', 'division': 'C', 'curso': 5, 'fecha_nacimiento': '27/02/2007'}\n",
            "{'nombre': 'Matias Ezequiel', 'apellido': 'Barrera', 'division': 'C', 'curso': 5, 'fecha_nacimiento': '27/02/2007'}\n",
            "{'nombre': 'Joaquin Nicolas', 'apellido': 'Barrozo Vedia', 'division': 'C', 'curso': 5, 'fecha_nacimiento': '15/04/2006'}\n",
            "{'nombre': 'Joaquin Nicolas', 'apellido': 'Barrozo Vedia', 'division': 'C', 'curso': 5, 'fecha_nacimiento': '15/04/2006'}\n",
            "{'nombre': 'Valentino', 'apellido': 'Bettinelli', 'division': 'C', 'curso': 5, 'fecha_nacimiento': '12/07/2006'}\n",
            "{'nombre': 'Valentino', 'apellido': 'Bettinelli', 'division': 'C', 'curso': 5, 'fecha_nacimiento': '12/07/2006'}\n",
            "{'nombre': 'Salvador', 'apellido': 'Bracamonte Martinez', 'division': 'C', 'curso': 5, 'fecha_nacimiento': '02/11/2005'}\n",
            "{'nombre': 'Salvador', 'apellido': 'Bracamonte Martinez', 'division': 'C', 'curso': 5, 'fecha_nacimiento': '02/11/2005'}\n",
            "{'nombre': 'Ariana Zoe Del Valle', 'apellido': 'Colque Rivero', 'division': 'C', 'curso': 5, 'fecha_nacimiento': '27/12/2006'}\n",
            "{'nombre': 'Ariana Zoe Del Valle', 'apellido': 'Colque Rivero', 'division': 'C', 'curso': 5, 'fecha_nacimiento': '27/12/2006'}\n",
            "{'nombre': 'Dulce Maitena', 'apellido': 'Diaz', 'division': 'C', 'curso': 5, 'fecha_nacimiento': '11/12/2006'}\n",
            "{'nombre': 'Dulce Maitena', 'apellido': 'Diaz', 'division': 'C', 'curso': 5, 'fecha_nacimiento': '11/12/2006'}\n",
            "{'nombre': 'Santino Josue', 'apellido': 'Figueroa', 'division': 'C', 'curso': 5, 'fecha_nacimiento': '12/05/2007'}\n",
            "{'nombre': 'Santino Josue', 'apellido': 'Figueroa', 'division': 'C', 'curso': 5, 'fecha_nacimiento': '12/05/2007'}\n",
            "{'nombre': 'Agustina Tiara', 'apellido': 'Flores Cardozo', 'division': 'C', 'curso': 5, 'fecha_nacimiento': '18/03/2006'}\n",
            "{'nombre': 'Agustina Tiara', 'apellido': 'Flores Cardozo', 'division': 'C', 'curso': 5, 'fecha_nacimiento': '18/03/2006'}\n",
            "{'nombre': 'Octavio Ismael', 'apellido': 'Gallo', 'division': 'C', 'curso': 5, 'fecha_nacimiento': '04/08/2006'}\n",
            "{'nombre': 'Octavio Ismael', 'apellido': 'Gallo', 'division': 'C', 'curso': 5, 'fecha_nacimiento': '04/08/2006'}\n",
            "{'nombre': 'Lourdes Yamila', 'apellido': 'Galvan', 'division': 'C', 'curso': 5, 'fecha_nacimiento': '19/08/2005'}\n",
            "{'nombre': 'Lourdes Yamila', 'apellido': 'Galvan', 'division': 'C', 'curso': 5, 'fecha_nacimiento': '19/08/2005'}\n",
            "{'nombre': 'Vitto Tomasso', 'apellido': 'Giangreco', 'division': 'C', 'curso': 5, 'fecha_nacimiento': '21/03/2007'}\n",
            "{'nombre': 'Vitto Tomasso', 'apellido': 'Giangreco', 'division': 'C', 'curso': 5, 'fecha_nacimiento': '21/03/2007'}\n",
            "{'nombre': 'Martina Luna', 'apellido': 'Grancara', 'division': 'C', 'curso': 5, 'fecha_nacimiento': '15/12/2006'}\n",
            "{'nombre': 'Martina Luna', 'apellido': 'Grancara', 'division': 'C', 'curso': 5, 'fecha_nacimiento': '15/12/2006'}\n",
            "{'nombre': 'Sara Elizabeth', 'apellido': 'Guanca', 'division': 'C', 'curso': 5, 'fecha_nacimiento': '17/01/2007'}\n",
            "{'nombre': 'Sara Elizabeth', 'apellido': 'Guanca', 'division': 'C', 'curso': 5, 'fecha_nacimiento': '17/01/2007'}\n",
            "{'nombre': 'Victoria Constanza', 'apellido': 'Lopez', 'division': 'C', 'curso': 5, 'fecha_nacimiento': '12/11/2007'}\n",
            "{'nombre': 'Victoria Constanza', 'apellido': 'Lopez', 'division': 'C', 'curso': 5, 'fecha_nacimiento': '12/11/2007'}\n",
            "{'nombre': 'Rosario Agostina', 'apellido': 'Mamani Garrido', 'division': 'C', 'curso': 5, 'fecha_nacimiento': '24/10/2006'}\n",
            "{'nombre': 'Rosario Agostina', 'apellido': 'Mamani Garrido', 'division': 'C', 'curso': 5, 'fecha_nacimiento': '24/10/2006'}\n",
            "{'nombre': 'Martin Ezequiel', 'apellido': 'Marinaro', 'division': 'C', 'curso': 5, 'fecha_nacimiento': '03/11/2006'}\n",
            "{'nombre': 'Martin Ezequiel', 'apellido': 'Marinaro', 'division': 'C', 'curso': 5, 'fecha_nacimiento': '03/11/2006'}\n",
            "{'nombre': 'Ignacio', 'apellido': 'Merluzzi Dagum', 'division': 'C', 'curso': 5, 'fecha_nacimiento': '22/12/2005'}\n",
            "{'nombre': 'Ignacio', 'apellido': 'Merluzzi Dagum', 'division': 'C', 'curso': 5, 'fecha_nacimiento': '22/12/2005'}\n",
            "{'nombre': 'Martina', 'apellido': 'Messina', 'division': 'C', 'curso': 5, 'fecha_nacimiento': '13/07/2005'}\n",
            "{'nombre': 'Martina', 'apellido': 'Messina', 'division': 'C', 'curso': 5, 'fecha_nacimiento': '13/07/2005'}\n",
            "{'nombre': 'Karim', 'apellido': 'Rasuk', 'division': 'C', 'curso': 5, 'fecha_nacimiento': '13/07/2007'}\n",
            "{'nombre': 'Karim', 'apellido': 'Rasuk', 'division': 'C', 'curso': 5, 'fecha_nacimiento': '13/07/2007'}\n",
            "{'nombre': 'Lucia Magali', 'apellido': 'Rios', 'division': 'C', 'curso': 5, 'fecha_nacimiento': '22/09/2006'}\n",
            "{'nombre': 'Lucia Magali', 'apellido': 'Rios', 'division': 'C', 'curso': 5, 'fecha_nacimiento': '22/09/2006'}\n",
            "{'nombre': 'Matías Agustín', 'apellido': 'Sanchez Flores', 'division': 'C', 'curso': 5, 'fecha_nacimiento': '15/02/2007'}\n",
            "{'nombre': 'Renato Marcelo', 'apellido': 'Scarano', 'division': 'C', 'curso': 5, 'fecha_nacimiento': '06/12/2006'}\n",
            "{'nombre': 'Lucas Mauricio', 'apellido': 'Sierra', 'division': 'C', 'curso': 5, 'fecha_nacimiento': '03/04/2005'}\n",
            "{'nombre': 'Martin Gabriel', 'apellido': 'Tapia', 'division': 'C', 'curso': 5, 'fecha_nacimiento': '30/05/2006'}\n",
            "{'nombre': 'Mia Antonella Alondra', 'apellido': 'Vilte', 'division': 'C', 'curso': 5, 'fecha_nacimiento': '10/09/2005'}\n",
            "{'nombre': 'Katya Milena', 'apellido': 'Virgillito', 'division': 'C', 'curso': 5, 'fecha_nacimiento': '19/06/2007'}\n"
          ]
        }
      ]
    },
    {
      "cell_type": "markdown",
      "source": [
        "10. Ordena la lista por fecha de nacimiento, de manera ascendente y descendente."
      ],
      "metadata": {
        "id": "E24lH7x5Xbur"
      }
    },
    {
      "cell_type": "code",
      "source": [],
      "metadata": {
        "id": "9SeI3GBGXims",
        "colab": {
          "base_uri": "https://localhost:8080/",
          "height": 179
        },
        "outputId": "93530dc8-5847-4965-f4b9-6c306dac13d4"
      },
      "execution_count": null,
      "outputs": [
        {
          "output_type": "error",
          "ename": "SyntaxError",
          "evalue": "unmatched ')' (<ipython-input-21-5973c3cd221b>, line 10)",
          "traceback": [
            "\u001b[0;36m  File \u001b[0;32m\"<ipython-input-21-5973c3cd221b>\"\u001b[0;36m, line \u001b[0;32m10\u001b[0m\n\u001b[0;31m    lista_dict.sort(key=lamda x:convertir_fecha(x[\"fecha_nacimiento\"])),reverse=True)\u001b[0m\n\u001b[0m                                                                                    ^\u001b[0m\n\u001b[0;31mSyntaxError\u001b[0m\u001b[0;31m:\u001b[0m unmatched ')'\n"
          ]
        }
      ]
    },
    {
      "cell_type": "markdown",
      "source": [
        "11. Generar una estuctura de diccionario anidado en donde la clave sea el nombre del estudiante y el valor sea un diccionario con los datos del mismo, de la siguiente manera:\n",
        "\n",
        "\n",
        "\n",
        "\n",
        "```python\n",
        "estudiantes = {\n",
        "    \"Juan Perez\": {\n",
        "        \"año\": 2024,\n",
        "        \"división\": \"5D\",\n",
        "        \"fecha de nacimiento\": \"15/03/2006\"\n",
        "    },\n",
        "    \"Maria Gomez\": {\n",
        "        \"año\": 2024,\n",
        "        \"división\": \"5D\",\n",
        "        \"fecha de nacimiento\": \"22/07/2006\"\n",
        "    },\n",
        "    \"Carlos Lopez\": {\n",
        "        \"año\": 2024,\n",
        "        \"división\": \"5D\",\n",
        "        \"fecha de nacimiento\": \"05/10/2006\"\n",
        "    }\n",
        "}\n",
        "```\n",
        "\n",
        "\n",
        "\n",
        "\n"
      ],
      "metadata": {
        "id": "vOY6K_ydRc3Q"
      }
    },
    {
      "cell_type": "code",
      "source": [
        "estudiantes_2 = {}\n",
        "for estudiante in lista_dict:\n",
        "  nombre_completo= estudiante.get('nombre','') + ' ' + estudiante.get(\"apellido\", \"\")\n",
        "division, curso, fecha_nacimiento=estudiante.get(\"division\"), estudiante.get(\"curso\"), estudiante.get(\"fecha_nacimiento\")\n",
        "  dic={}\n",
        "  dic[\"division\"]=curso, division\n",
        "  dic[\"fecha_nacimiento\"]=fecha_nacimiento\n",
        "  dic[\"año\"]=2024\n",
        "  estudiantes_2[nombre_completo) = dic\n",
        "for estudiante, valor in estudiantes_2.items():\n",
        "  print(estudiante, valor)"
      ],
      "metadata": {
        "id": "9JDrd3WqRdTi",
        "colab": {
          "base_uri": "https://localhost:8080/",
          "height": 124
        },
        "outputId": "9fe87f3c-a1ff-468a-98c8-b93ed93746f5"
      },
      "execution_count": 11,
      "outputs": [
        {
          "output_type": "error",
          "ename": "IndentationError",
          "evalue": "unexpected indent (<ipython-input-11-4ba3ba393976>, line 5)",
          "traceback": [
            "\u001b[0;36m  File \u001b[0;32m\"<ipython-input-11-4ba3ba393976>\"\u001b[0;36m, line \u001b[0;32m5\u001b[0m\n\u001b[0;31m    dic={}\u001b[0m\n\u001b[0m    ^\u001b[0m\n\u001b[0;31mIndentationError\u001b[0m\u001b[0;31m:\u001b[0m unexpected indent\n"
          ]
        }
      ]
    }
  ]
}